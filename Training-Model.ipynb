{
 "cells": [
  {
   "cell_type": "code",
   "execution_count": 1,
   "id": "dfb1b400-b3a7-4de4-ba96-b3b56784ae18",
   "metadata": {},
   "outputs": [],
   "source": [
    "import pandas as pd\n",
    "import numpy as np\n",
    "import re\n",
    "\n",
    "from sklearn.feature_extraction.text import TfidfVectorizer\n",
    "from sklearn.linear_model import LogisticRegression\n",
    "from sklearn.metrics import accuracy_score\n",
    "from sklearn.preprocessing import LabelEncoder\n",
    "from nltk.stem import PorterStemmer\n",
    "from nltk.corpus import stopwords\n",
    "\n",
    "\n",
    "import optuna"
   ]
  },
  {
   "cell_type": "code",
   "execution_count": 2,
   "id": "38a0a9e4-62b5-4ea2-b90f-048cf5508e63",
   "metadata": {},
   "outputs": [
    {
     "name": "stderr",
     "output_type": "stream",
     "text": [
      "[nltk_data] Downloading package stopwords to\n",
      "[nltk_data]     /Users/paranjaysoni/nltk_data...\n",
      "[nltk_data]   Package stopwords is already up-to-date!\n"
     ]
    },
    {
     "data": {
      "text/plain": [
       "True"
      ]
     },
     "execution_count": 2,
     "metadata": {},
     "output_type": "execute_result"
    }
   ],
   "source": [
    "import nltk\n",
    "nltk.download('stopwords')"
   ]
  },
  {
   "cell_type": "code",
   "execution_count": 3,
   "id": "a3dc5817-1788-43a6-908d-48b5ece3e0b1",
   "metadata": {},
   "outputs": [],
   "source": [
    "train_df = pd.read_csv('Dataset/twitter_training.csv', names=['id','entity','sentiment','Tweet'])\n",
    "test_df = pd.read_csv('Dataset/twitter_test.csv', names=['id','entity','sentiment','Tweet'])"
   ]
  },
  {
   "cell_type": "code",
   "execution_count": 4,
   "id": "c2147533-cf8b-454b-b29d-eea294402750",
   "metadata": {},
   "outputs": [
    {
     "data": {
      "text/html": [
       "<div>\n",
       "<style scoped>\n",
       "    .dataframe tbody tr th:only-of-type {\n",
       "        vertical-align: middle;\n",
       "    }\n",
       "\n",
       "    .dataframe tbody tr th {\n",
       "        vertical-align: top;\n",
       "    }\n",
       "\n",
       "    .dataframe thead th {\n",
       "        text-align: right;\n",
       "    }\n",
       "</style>\n",
       "<table border=\"1\" class=\"dataframe\">\n",
       "  <thead>\n",
       "    <tr style=\"text-align: right;\">\n",
       "      <th></th>\n",
       "      <th>id</th>\n",
       "      <th>entity</th>\n",
       "      <th>sentiment</th>\n",
       "      <th>Tweet</th>\n",
       "    </tr>\n",
       "  </thead>\n",
       "  <tbody>\n",
       "    <tr>\n",
       "      <th>0</th>\n",
       "      <td>2401</td>\n",
       "      <td>Borderlands</td>\n",
       "      <td>Positive</td>\n",
       "      <td>im getting on borderlands and i will murder yo...</td>\n",
       "    </tr>\n",
       "    <tr>\n",
       "      <th>1</th>\n",
       "      <td>2401</td>\n",
       "      <td>Borderlands</td>\n",
       "      <td>Positive</td>\n",
       "      <td>I am coming to the borders and I will kill you...</td>\n",
       "    </tr>\n",
       "    <tr>\n",
       "      <th>2</th>\n",
       "      <td>2401</td>\n",
       "      <td>Borderlands</td>\n",
       "      <td>Positive</td>\n",
       "      <td>im getting on borderlands and i will kill you ...</td>\n",
       "    </tr>\n",
       "    <tr>\n",
       "      <th>3</th>\n",
       "      <td>2401</td>\n",
       "      <td>Borderlands</td>\n",
       "      <td>Positive</td>\n",
       "      <td>im coming on borderlands and i will murder you...</td>\n",
       "    </tr>\n",
       "    <tr>\n",
       "      <th>4</th>\n",
       "      <td>2401</td>\n",
       "      <td>Borderlands</td>\n",
       "      <td>Positive</td>\n",
       "      <td>im getting on borderlands 2 and i will murder ...</td>\n",
       "    </tr>\n",
       "  </tbody>\n",
       "</table>\n",
       "</div>"
      ],
      "text/plain": [
       "     id       entity sentiment  \\\n",
       "0  2401  Borderlands  Positive   \n",
       "1  2401  Borderlands  Positive   \n",
       "2  2401  Borderlands  Positive   \n",
       "3  2401  Borderlands  Positive   \n",
       "4  2401  Borderlands  Positive   \n",
       "\n",
       "                                               Tweet  \n",
       "0  im getting on borderlands and i will murder yo...  \n",
       "1  I am coming to the borders and I will kill you...  \n",
       "2  im getting on borderlands and i will kill you ...  \n",
       "3  im coming on borderlands and i will murder you...  \n",
       "4  im getting on borderlands 2 and i will murder ...  "
      ]
     },
     "execution_count": 4,
     "metadata": {},
     "output_type": "execute_result"
    }
   ],
   "source": [
    "train_df.head()"
   ]
  },
  {
   "cell_type": "code",
   "execution_count": 5,
   "id": "5ade8dd9-fcde-423c-825c-9821f04d5763",
   "metadata": {},
   "outputs": [
    {
     "data": {
      "text/plain": [
       "id             0\n",
       "entity         0\n",
       "sentiment      0\n",
       "Tweet        686\n",
       "dtype: int64"
      ]
     },
     "execution_count": 5,
     "metadata": {},
     "output_type": "execute_result"
    }
   ],
   "source": [
    "train_df.isnull().sum()"
   ]
  },
  {
   "cell_type": "code",
   "execution_count": 6,
   "id": "5d26596c-060f-43b4-9d39-4068216e4293",
   "metadata": {},
   "outputs": [
    {
     "data": {
      "text/plain": [
       "id           0\n",
       "entity       0\n",
       "sentiment    0\n",
       "Tweet        0\n",
       "dtype: int64"
      ]
     },
     "execution_count": 6,
     "metadata": {},
     "output_type": "execute_result"
    }
   ],
   "source": [
    "test_df.isnull().sum()"
   ]
  },
  {
   "cell_type": "code",
   "execution_count": 7,
   "id": "42bc095a-ea4b-4215-a125-2c7d926c83ea",
   "metadata": {},
   "outputs": [],
   "source": [
    "train_df.dropna(inplace=True)"
   ]
  },
  {
   "cell_type": "code",
   "execution_count": 8,
   "id": "66045a16-1e82-46c3-a121-6a9e32a2c587",
   "metadata": {},
   "outputs": [
    {
     "data": {
      "text/plain": [
       "sentiment\n",
       "Negative      22358\n",
       "Positive      20655\n",
       "Neutral       18108\n",
       "Irrelevant    12875\n",
       "Name: count, dtype: int64"
      ]
     },
     "execution_count": 8,
     "metadata": {},
     "output_type": "execute_result"
    }
   ],
   "source": [
    "train_df['sentiment'].value_counts()"
   ]
  },
  {
   "cell_type": "code",
   "execution_count": 9,
   "id": "b02cd74f-f0dc-48c4-aeea-0acc2c53de97",
   "metadata": {},
   "outputs": [
    {
     "data": {
      "text/plain": [
       "sentiment\n",
       "Neutral       285\n",
       "Positive      277\n",
       "Negative      266\n",
       "Irrelevant    172\n",
       "Name: count, dtype: int64"
      ]
     },
     "execution_count": 9,
     "metadata": {},
     "output_type": "execute_result"
    }
   ],
   "source": [
    "test_df['sentiment'].value_counts()"
   ]
  },
  {
   "cell_type": "markdown",
   "id": "434fd495-e9fb-44cd-802f-696b359a7a94",
   "metadata": {},
   "source": [
    "### Processing Tweets:"
   ]
  },
  {
   "cell_type": "code",
   "execution_count": 10,
   "id": "133e41a6-5904-4b79-8f50-65f3308bc81a",
   "metadata": {},
   "outputs": [],
   "source": [
    "port_stem = PorterStemmer()"
   ]
  },
  {
   "cell_type": "code",
   "execution_count": 11,
   "id": "904f84cd-bfb2-40a4-b179-3bdb3dcc2057",
   "metadata": {},
   "outputs": [],
   "source": [
    "def stemming(text):\n",
    "    FinalText = re.sub('[^a-zA-z]',' ', text)\n",
    "    FinalText = FinalText.lower()\n",
    "    FinalText = FinalText.split()\n",
    "    FinalText = [port_stem.stem(word) for word in FinalText if not word in stopwords.words('english')]\n",
    "    FinalText = ' '.join(FinalText)\n",
    "\n",
    "    return FinalText"
   ]
  },
  {
   "cell_type": "code",
   "execution_count": 12,
   "id": "a301b0ae-dff5-47d2-8436-d9d4b458841e",
   "metadata": {},
   "outputs": [],
   "source": [
    "train_df['Tweet'] = train_df['Tweet'].apply(lambda x:stemming(x))\n",
    "test_df['Tweet'] = test_df['Tweet'].apply(lambda x:stemming(x))"
   ]
  },
  {
   "cell_type": "code",
   "execution_count": 13,
   "id": "8a960599-53bb-49f0-9c01-e23871770bc6",
   "metadata": {},
   "outputs": [],
   "source": [
    "x_train = train_df['Tweet']\n",
    "x_test = test_df['Tweet']"
   ]
  },
  {
   "cell_type": "code",
   "execution_count": 14,
   "id": "64fb87a5-d2fa-4410-9112-36d4dea67c13",
   "metadata": {},
   "outputs": [],
   "source": [
    "vectorizer = TfidfVectorizer()"
   ]
  },
  {
   "cell_type": "code",
   "execution_count": 15,
   "id": "f80c0b35-6969-44f8-88d6-723edafc5e71",
   "metadata": {},
   "outputs": [],
   "source": [
    "x_train = vectorizer.fit_transform(x_train)\n",
    "x_test = vectorizer.transform(x_test)"
   ]
  },
  {
   "cell_type": "markdown",
   "id": "afa390f6-2f2d-46bd-947d-a6c36d191d71",
   "metadata": {},
   "source": [
    "### Processing Output"
   ]
  },
  {
   "cell_type": "code",
   "execution_count": 16,
   "id": "bc8b5a41-7424-4d29-8317-73fde4210198",
   "metadata": {},
   "outputs": [],
   "source": [
    "le = LabelEncoder()"
   ]
  },
  {
   "cell_type": "code",
   "execution_count": 17,
   "id": "0d6fd378-71ce-4ec4-a5a1-e25a9c62df45",
   "metadata": {},
   "outputs": [],
   "source": [
    "y_train = le.fit_transform(train_df['sentiment'])\n",
    "y_test = le.transform(test_df['sentiment'])"
   ]
  },
  {
   "cell_type": "code",
   "execution_count": 18,
   "id": "38265d8e-0398-498e-826d-fb22164de24b",
   "metadata": {},
   "outputs": [
    {
     "name": "stdout",
     "output_type": "stream",
     "text": [
      "Class Mapping: {'Irrelevant': 0, 'Negative': 1, 'Neutral': 2, 'Positive': 3}\n"
     ]
    }
   ],
   "source": [
    "#Showing Results:\n",
    "print(\"Class Mapping:\", dict(zip(le.classes_, range(len(le.classes_)))))"
   ]
  },
  {
   "cell_type": "markdown",
   "id": "e69f31b8-dc66-49e6-98be-46210f521d84",
   "metadata": {},
   "source": [
    "# Working With Model Training:"
   ]
  },
  {
   "cell_type": "markdown",
   "id": "85064f3d-f74f-4aa3-b016-bf2943b716d8",
   "metadata": {},
   "source": [
    "### Performing Optuna for best Model and Best HyperParametes:"
   ]
  },
  {
   "cell_type": "code",
   "execution_count": 19,
   "id": "c1b3ff6a-7c4c-44e8-813c-3ec2c3016572",
   "metadata": {},
   "outputs": [],
   "source": [
    "# def objective(trial):\n",
    "#     model_type = trial.suggest_categorical(\"model\", [\"logreg\", \"svm\"])\n",
    "\n",
    "#     if model_type == \"logreg\":\n",
    "#         C = trial.suggest_loguniform(\"C\", 1e-3, 1e2)\n",
    "#         solver = trial.suggest_categorical(\"solver\", [\"lbfgs\", \"saga\"])\n",
    "#         penalty = trial.suggest_categorical(\"penalty\", [\"l2\"])\n",
    "#         max_iter = trial.suggest_int(\"max_iter\", 500, 2000)\n",
    "\n",
    "#         model = LogisticRegression(\n",
    "#             C=C,\n",
    "#             solver=solver,\n",
    "#             penalty=penalty,\n",
    "#             multi_class='multinomial',\n",
    "#             max_iter=max_iter,\n",
    "#             n_jobs=-1\n",
    "#         )\n",
    "\n",
    "#     elif model_type == \"svm\":\n",
    "#         C = trial.suggest_loguniform(\"C\", 1e-3, 1e2)\n",
    "#         loss = trial.suggest_categorical(\"loss\", [\"hinge\", \"squared_hinge\"])\n",
    "#         max_iter = trial.suggest_int(\"max_iter\", 1000, 5000)\n",
    "\n",
    "#         model = LinearSVC(\n",
    "#             C=C,\n",
    "#             loss=loss,\n",
    "#             max_iter=max_iter\n",
    "#         )\n",
    "\n",
    "#     model.fit(x_train, y_train)\n",
    "#     y_pred = model.predict(x_test)\n",
    "#     acc = accuracy_score(y_test, y_pred)\n",
    "#     return acc\n",
    "\n",
    "# # Run Optuna study\n",
    "# study = optuna.create_study(direction=\"maximize\")\n",
    "# study.optimize(objective, n_trials=50)\n",
    "\n",
    "# print(\"\\nBest Trial:\")\n",
    "# print(study.best_trial)\n",
    "\n",
    "# print(\"\\nBest Parameters:\")\n",
    "# print(study.best_params)\n",
    "\n",
    "# print(f\"\\nBest Accuracy: {study.best_value:.4f}\")\n"
   ]
  },
  {
   "cell_type": "code",
   "execution_count": 20,
   "id": "92bdf123-e5ae-4a7a-8a5d-4d3b0097badf",
   "metadata": {},
   "outputs": [
    {
     "name": "stderr",
     "output_type": "stream",
     "text": [
      "/opt/anaconda3/lib/python3.12/site-packages/sklearn/linear_model/_logistic.py:1247: FutureWarning: 'multi_class' was deprecated in version 1.5 and will be removed in 1.7. From then on, it will always use 'multinomial'. Leave it to its default value to avoid this warning.\n",
      "  warnings.warn(\n"
     ]
    },
    {
     "name": "stdout",
     "output_type": "stream",
     "text": [
      "Final Accuracy:  0.944\n"
     ]
    }
   ],
   "source": [
    "best_model = LogisticRegression(\n",
    "    C=29.075937392033783,\n",
    "    solver='saga',\n",
    "    penalty='l2',\n",
    "    multi_class='multinomial',\n",
    "    max_iter=504,\n",
    "    n_jobs=-1\n",
    ")\n",
    "\n",
    "best_model.fit(x_train, y_train)\n",
    "y_pred = best_model.predict(x_test)\n",
    "print(\"Final Accuracy: \", accuracy_score(y_test,y_pred))"
   ]
  },
  {
   "cell_type": "markdown",
   "id": "03350906-4bbf-4ff7-bbab-e1a9276c1ebd",
   "metadata": {},
   "source": [
    "# Testing Sample:"
   ]
  },
  {
   "cell_type": "code",
   "execution_count": 21,
   "id": "1c5ff0e1-a7de-4a41-8e82-3d86d18efbc9",
   "metadata": {},
   "outputs": [],
   "source": [
    "sample_tweets = \"After waiting 3 hours in line at the airport, they told me my flight was cancelled without any explanation — I am beyond frustrated and tired right now.\""
   ]
  },
  {
   "cell_type": "code",
   "execution_count": 22,
   "id": "6dd291e5-57da-4e86-84bc-f5f55226a25b",
   "metadata": {},
   "outputs": [],
   "source": [
    "sample_final = [stemming(sample_tweets)]"
   ]
  },
  {
   "cell_type": "code",
   "execution_count": 23,
   "id": "c4d10122-05db-4d62-b5e5-a3eed4b02e2c",
   "metadata": {},
   "outputs": [],
   "source": [
    "sample_final = vectorizer.transform(sample_final)"
   ]
  },
  {
   "cell_type": "code",
   "execution_count": 24,
   "id": "1bd23c10-5f2b-4720-bd8e-bdb1b1ca3dd7",
   "metadata": {},
   "outputs": [
    {
     "data": {
      "text/plain": [
       "1"
      ]
     },
     "execution_count": 24,
     "metadata": {},
     "output_type": "execute_result"
    }
   ],
   "source": [
    "best_model.predict(sample_final)[0]"
   ]
  },
  {
   "cell_type": "markdown",
   "id": "d03f3220-6a4c-443c-bc9b-2e6700db070c",
   "metadata": {},
   "source": [
    "# Exporting Model"
   ]
  },
  {
   "cell_type": "code",
   "execution_count": 25,
   "id": "a25174ab-0902-452d-af9e-7a8b4c468eec",
   "metadata": {},
   "outputs": [],
   "source": [
    "import pickle"
   ]
  },
  {
   "cell_type": "code",
   "execution_count": 31,
   "id": "501b6229-8514-4a8a-bd71-0ee6d8513215",
   "metadata": {},
   "outputs": [],
   "source": [
    "pickle.dump(vectorizer,open('vectorizer.pkl','wb'))\n",
    "pickle.dump(le,open('le.pkl','wb'))\n",
    "pickle.dump(best_model,open('best_model.pkl','wb'))"
   ]
  },
  {
   "cell_type": "code",
   "execution_count": null,
   "id": "49de8a86-1a92-4e9f-ad56-005307a84701",
   "metadata": {},
   "outputs": [],
   "source": []
  }
 ],
 "metadata": {
  "kernelspec": {
   "display_name": "Python [conda env:base] *",
   "language": "python",
   "name": "conda-base-py"
  },
  "language_info": {
   "codemirror_mode": {
    "name": "ipython",
    "version": 3
   },
   "file_extension": ".py",
   "mimetype": "text/x-python",
   "name": "python",
   "nbconvert_exporter": "python",
   "pygments_lexer": "ipython3",
   "version": "3.12.7"
  }
 },
 "nbformat": 4,
 "nbformat_minor": 5
}
